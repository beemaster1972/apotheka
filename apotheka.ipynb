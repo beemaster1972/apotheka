{
 "cells": [
  {
   "cell_type": "code",
   "execution_count": 1,
   "id": "initial_id",
   "metadata": {
    "collapsed": true,
    "ExecuteTime": {
     "end_time": "2024-03-04T10:26:15.522143Z",
     "start_time": "2024-03-04T10:26:13.739194Z"
    }
   },
   "outputs": [],
   "source": [
    "import pandas as pd\n",
    "import numpy as np"
   ]
  },
  {
   "cell_type": "code",
   "outputs": [],
   "source": [
    "df = pd.read_xml('./xml/0dd9cd98-9774-441d-9960-07c330726771.xml')"
   ],
   "metadata": {
    "collapsed": false,
    "ExecuteTime": {
     "end_time": "2024-03-04T10:29:24.886281Z",
     "start_time": "2024-03-04T10:29:24.845301Z"
    }
   },
   "id": "3cf7aa894d88e474",
   "execution_count": 3
  },
  {
   "cell_type": "code",
   "outputs": [
    {
     "data": {
      "text/plain": "0    \\n      \nName: order_details, dtype: object"
     },
     "execution_count": 6,
     "metadata": {},
     "output_type": "execute_result"
    }
   ],
   "source": [
    "df\n",
    "df['order_details']"
   ],
   "metadata": {
    "collapsed": false,
    "ExecuteTime": {
     "end_time": "2024-03-04T10:33:29.435275Z",
     "start_time": "2024-03-04T10:33:29.422723Z"
    }
   },
   "id": "4dd4f6cd4389f644",
   "execution_count": 6
  },
  {
   "cell_type": "code",
   "outputs": [
    {
     "name": "stdout",
     "output_type": "stream",
     "text": [
      "<class 'pandas.core.frame.DataFrame'>\n",
      "RangeIndex: 1 entries, 0 to 0\n",
      "Data columns (total 7 columns):\n",
      " #   Column           Non-Null Count  Dtype \n",
      "---  ------           --------------  ----- \n",
      " 0   action_id        1 non-null      int64 \n",
      " 1   subject_id       1 non-null      int64 \n",
      " 2   operation_date   1 non-null      object\n",
      " 3   doc_num          1 non-null      object\n",
      " 4   doc_date         1 non-null      object\n",
      " 5   withdrawal_type  1 non-null      int64 \n",
      " 6   order_details    1 non-null      object\n",
      "dtypes: int64(3), object(4)\n",
      "memory usage: 188.0+ bytes\n"
     ]
    }
   ],
   "source": [
    "df.info()"
   ],
   "metadata": {
    "collapsed": false,
    "ExecuteTime": {
     "end_time": "2024-03-04T10:34:11.480074Z",
     "start_time": "2024-03-04T10:34:11.449890Z"
    }
   },
   "id": "58b790d73b5157f5",
   "execution_count": 8
  }
 ],
 "metadata": {
  "kernelspec": {
   "display_name": "Python 3",
   "language": "python",
   "name": "python3"
  },
  "language_info": {
   "codemirror_mode": {
    "name": "ipython",
    "version": 2
   },
   "file_extension": ".py",
   "mimetype": "text/x-python",
   "name": "python",
   "nbconvert_exporter": "python",
   "pygments_lexer": "ipython2",
   "version": "2.7.6"
  }
 },
 "nbformat": 4,
 "nbformat_minor": 5
}
